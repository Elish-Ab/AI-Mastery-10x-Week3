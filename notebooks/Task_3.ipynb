{
 "cells": [
  {
   "cell_type": "code",
   "execution_count": 39,
   "metadata": {},
   "outputs": [],
   "source": [
    "import pandas as pd\n",
    "import numpy as np\n",
    "import matplotlib.pyplot as plt\n",
    "from scipy.stats import chi2_contingency, ttest_ind, f_oneway"
   ]
  },
  {
   "cell_type": "code",
   "execution_count": 40,
   "metadata": {},
   "outputs": [
    {
     "name": "stderr",
     "output_type": "stream",
     "text": [
      "C:\\Users\\Tigabu Abriham\\AppData\\Local\\Temp\\ipykernel_5788\\3043090071.py:2: DtypeWarning: Columns (32,37) have mixed types. Specify dtype option on import or set low_memory=False.\n",
      "  data = pd.read_csv('data.csv')\n"
     ]
    }
   ],
   "source": [
    "# Load the dataset\n",
    "data = pd.read_csv('data.csv')"
   ]
  },
  {
   "cell_type": "code",
   "execution_count": 41,
   "metadata": {},
   "outputs": [
    {
     "name": "stdout",
     "output_type": "stream",
     "text": [
      "<class 'pandas.core.frame.DataFrame'>\n",
      "RangeIndex: 1000098 entries, 0 to 1000097\n",
      "Data columns (total 52 columns):\n",
      " #   Column                    Non-Null Count    Dtype  \n",
      "---  ------                    --------------    -----  \n",
      " 0   underwrittencoverid       1000098 non-null  int64  \n",
      " 1   policyid                  1000098 non-null  int64  \n",
      " 2   transactionmonth          1000098 non-null  object \n",
      " 3   isvatregistered           1000098 non-null  bool   \n",
      " 4   citizenship               1000098 non-null  object \n",
      " 5   legaltype                 1000098 non-null  object \n",
      " 6   title                     1000098 non-null  object \n",
      " 7   language                  1000098 non-null  object \n",
      " 8   bank                      854137 non-null   object \n",
      " 9   accounttype               959866 non-null   object \n",
      " 10  maritalstatus             991839 non-null   object \n",
      " 11  gender                    990562 non-null   object \n",
      " 12  country                   1000098 non-null  object \n",
      " 13  province                  1000098 non-null  object \n",
      " 14  postalcode                1000098 non-null  int64  \n",
      " 15  maincrestazone            1000098 non-null  object \n",
      " 16  subcrestazone             1000098 non-null  object \n",
      " 17  itemtype                  1000098 non-null  object \n",
      " 18  mmcode                    999546 non-null   float64\n",
      " 19  vehicletype               999546 non-null   object \n",
      " 20  registrationyear          1000098 non-null  int64  \n",
      " 21  make                      999546 non-null   object \n",
      " 22  model                     999546 non-null   object \n",
      " 23  cylinders                 999546 non-null   float64\n",
      " 24  cubiccapacity             999546 non-null   float64\n",
      " 25  kilowatts                 999546 non-null   float64\n",
      " 26  bodytype                  999546 non-null   object \n",
      " 27  numberofdoors             999546 non-null   float64\n",
      " 28  vehicleintrodate          999546 non-null   object \n",
      " 29  customvalueestimate       220456 non-null   float64\n",
      " 30  alarmimmobiliser          1000098 non-null  object \n",
      " 31  trackingdevice            1000098 non-null  object \n",
      " 32  capitaloutstanding        1000096 non-null  object \n",
      " 33  newvehicle                846803 non-null   object \n",
      " 34  writtenoff                358197 non-null   object \n",
      " 35  rebuilt                   358197 non-null   object \n",
      " 36  converted                 358197 non-null   object \n",
      " 37  crossborder               698 non-null      object \n",
      " 38  numberofvehiclesinfleet   0 non-null        float64\n",
      " 39  suminsured                1000098 non-null  float64\n",
      " 40  termfrequency             1000098 non-null  object \n",
      " 41  calculatedpremiumperterm  1000098 non-null  float64\n",
      " 42  excessselected            1000098 non-null  object \n",
      " 43  covercategory             1000098 non-null  object \n",
      " 44  covertype                 1000098 non-null  object \n",
      " 45  covergroup                1000098 non-null  object \n",
      " 46  section                   1000098 non-null  object \n",
      " 47  product                   1000098 non-null  object \n",
      " 48  statutoryclass            1000098 non-null  object \n",
      " 49  statutoryrisktype         1000098 non-null  object \n",
      " 50  totalpremium              1000098 non-null  float64\n",
      " 51  totalclaims               1000098 non-null  float64\n",
      "dtypes: bool(1), float64(11), int64(4), object(36)\n",
      "memory usage: 390.1+ MB\n"
     ]
    }
   ],
   "source": [
    "data.info()"
   ]
  },
  {
   "cell_type": "code",
   "execution_count": 42,
   "metadata": {},
   "outputs": [],
   "source": [
    "# Drop rows with NaN values in 'totalclaims' column\n",
    "data = data.dropna(subset=['totalclaims'])\n",
    "# Convert 'totalclaims' column to numeric\n",
    "data['totalclaims'] = pd.to_numeric(data['totalclaims'], errors='coerce')"
   ]
  },
  {
   "cell_type": "code",
   "execution_count": 43,
   "metadata": {},
   "outputs": [
    {
     "name": "stdout",
     "output_type": "stream",
     "text": [
      "Unique Cover Types: ['Windscreen' 'Own Damage' 'Third Party' 'Passenger Liability'\n",
      " 'Signage and Vehicle Wraps' 'Keys and Alarms'\n",
      " 'Cleaning and Removal of Accident Debris' 'Emergency Charges'\n",
      " 'Credit Protection' 'Roadside Assistance' 'Accidental Death'\n",
      " 'Basic Excess Waiver' 'Income Protector' 'Deposit Cover'\n",
      " 'Standalone passenger liability' 'Baggage/Luggage'\n",
      " 'Asset Value Preserver' 'Cash Takings' 'Third Party Only' 'Trailer'\n",
      " 'Fire and Theft' 'Factory Fitted Sound and Other Electronic Equipment']\n",
      "Cover Type Counts:\n",
      "covertype\n",
      "Own Damage                                             104183\n",
      "Passenger Liability                                    104158\n",
      "Windscreen                                             103763\n",
      "Third Party                                            102825\n",
      "Keys and Alarms                                        102428\n",
      "Signage and Vehicle Wraps                              102416\n",
      "Emergency Charges                                      102416\n",
      "Cleaning and Removal of Accident Debris                102414\n",
      "Income Protector                                        64813\n",
      "Basic Excess Waiver                                     57769\n",
      "Accidental Death                                        27321\n",
      "Credit Protection                                       18070\n",
      "Roadside Assistance                                      3834\n",
      "Deposit Cover                                            1299\n",
      "Asset Value Preserver                                     865\n",
      "Standalone passenger liability                            544\n",
      "Fire and Theft                                            375\n",
      "Cash Takings                                              291\n",
      "Baggage/Luggage                                           172\n",
      "Trailer                                                    76\n",
      "Third Party Only                                           63\n",
      "Factory Fitted Sound and Other Electronic Equipment         3\n",
      "Name: count, dtype: int64\n"
     ]
    }
   ],
   "source": [
    "# Check unique values in the CoverType column\n",
    "unique_cover_types = data['covertype'].unique()\n",
    "print(\"Unique Cover Types:\", unique_cover_types)\n",
    "\n",
    "# Count the occurrences of each cover type\n",
    "cover_type_counts = data['covertype'].value_counts()\n",
    "print(\"Cover Type Counts:\")\n",
    "print(cover_type_counts)"
   ]
  },
  {
   "cell_type": "code",
   "execution_count": 44,
   "metadata": {},
   "outputs": [
    {
     "name": "stdout",
     "output_type": "stream",
     "text": [
      "Control Group Size: 104183\n",
      "Test Group Size: 102825\n"
     ]
    }
   ],
   "source": [
    "# Data Segmentation based on chosen covertype values\n",
    "control_group = data[data['covertype'] == 'Own Damage']\n",
    "test_group = data[data['covertype'] == 'Third Party']\n",
    "\n",
    "# Check the number of observations in each group\n",
    "print(\"Control Group Size:\", len(control_group))\n",
    "print(\"Test Group Size:\", len(test_group))"
   ]
  },
  {
   "cell_type": "code",
   "execution_count": 45,
   "metadata": {},
   "outputs": [
    {
     "data": {
      "image/png": "[encoded data removed]",
      "text/plain": [
       "<Figure size 1200x600 with 2 Axes>"
      ]
     },
     "metadata": {},
     "output_type": "display_data"
    }
   ],
   "source": [
    "# let's visualize the distribution of 'TotalPremium' in the control and test groups\n",
    "plt.figure(figsize=(12, 6))\n",
    "\n",
    "# Histogram for the Control Group\n",
    "plt.subplot(1, 2, 1)\n",
    "plt.hist(control_group['totalpremium'], bins=20, color='blue', alpha=0.7)\n",
    "plt.title('Control Group - TotalPremium Distribution (Own Damage)')\n",
    "plt.xlabel('TotalPremium')\n",
    "plt.ylabel('Frequency')\n",
    "\n",
    "# Histogram for the Test Group\n",
    "plt.subplot(1, 2, 2)\n",
    "plt.hist(test_group['totalpremium'], bins=20, color='green', alpha=0.7)\n",
    "plt.title('Test Group - TotalPremium Distribution (Third Party)')\n",
    "plt.xlabel('TotalPremium')\n",
    "plt.ylabel('Frequency')\n",
    "\n",
    "plt.tight_layout()\n",
    "plt.show()"
   ]
  },
  {
   "cell_type": "code",
   "execution_count": 46,
   "metadata": {},
   "outputs": [
    {
     "data": {
      "text/plain": [
       "0    1459\n",
       "1    1459\n",
       "2    1459\n",
       "3    1459\n",
       "4    1459\n",
       "Name: postalcode, dtype: int64"
      ]
     },
     "execution_count": 46,
     "metadata": {},
     "output_type": "execute_result"
    }
   ],
   "source": [
    "data['postalcode'].head()"
   ]
  },
  {
   "cell_type": "code",
   "execution_count": 47,
   "metadata": {},
   "outputs": [
    {
     "name": "stdout",
     "output_type": "stream",
     "text": [
      "Risk differences between zip codes:\n",
      "F-statistic: 0.9419762214391849,\n",
      " p-value: 0.8906511279164051\n"
     ]
    }
   ],
   "source": [
    "\n",
    "\n",
    "# Assuming you have the necessary data loaded into these variables\n",
    "zip_codes = data['postalcode'].unique()\n",
    "risk_by_zipcode = data.groupby('postalcode')['totalclaims'].mean()\n",
    "\n",
    "f_statistic_zip, p_value_zip = f_oneway(*[data[data['postalcode'] == zipcode]['totalclaims'] for zipcode in zip_codes])\n",
    "\n",
    "print(\"Risk differences between zip codes:\")\n",
    "print(f\"F-statistic: {f_statistic_zip},\\n p-value: {p_value_zip}\")"
   ]
  },
  {
   "cell_type": "code",
   "execution_count": 55,
   "metadata": {},
   "outputs": [
    {
     "name": "stdout",
     "output_type": "stream",
     "text": [
      "Fail to reject the null hypothesis for Risk differences across provinces.\n",
      "Fail to reject the null hypothesis for Risk differences between zip codes.\n",
      "Fail to reject the null hypothesis for Margin (profit) difference between zip codes.\n",
      "Fail to reject the null hypothesis for Risk difference between Women and Men.\n"
     ]
    },
    {
     "name": "stderr",
     "output_type": "stream",
     "text": [
      "C:\\Users\\Tigabu Abriham\\AppData\\Local\\Temp\\ipykernel_5788\\1119639176.py:16: SmallSampleWarning: One or more sample arguments is too small; all returned values will be NaN. See documentation for sample size requirements.\n",
      "  t_stat, p_value2 = ttest_ind(zip_code_data_groupA, zip_code_data_groupB)\n",
      "C:\\Users\\Tigabu Abriham\\AppData\\Local\\Temp\\ipykernel_5788\\1119639176.py:21: SmallSampleWarning: One or more sample arguments is too small; all returned values will be NaN. See documentation for sample size requirements.\n",
      "  t_stat, p_value3 = ttest_ind(profit_data_groupA, profit_data_groupB)\n"
     ]
    }
   ],
   "source": [
    "# Assuming you have the necessary data loaded into these variables\n",
    "province_data = data.groupby('province')['totalclaims'].sum().reset_index()\n",
    "province_data['totalclaims'] = pd.to_numeric(province_data['totalclaims'], errors='coerce')\n",
    "zip_code_data_groupA = data[data['postalcode'] == 'A']['totalclaims']\n",
    "zip_code_data_groupB = data[data['postalcode'] == 'B']['totalclaims']\n",
    "# Assuming you have the necessary data loaded into these variables\n",
    "gender_data = pd.crosstab(data['gender'], data['totalclaims'])\n",
    "\n",
    "# Hypothesis 1: Risk differences across provinces\n",
    "contingency_table = pd.crosstab(index=province_data['province'], columns=province_data['totalclaims'])\n",
    "\n",
    "# Perform the chi-squared test using the contingency table\n",
    "chi2_stat, p_value1, _, _ = chi2_contingency(contingency_table)\n",
    "\n",
    "# Hypothesis 2: Risk differences between zip codes\n",
    "t_stat, p_value2 = ttest_ind(zip_code_data_groupA, zip_code_data_groupB)\n",
    "\n",
    "# Hypothesis 3: Margin (profit) difference between zip codes\n",
    "profit_data_groupA = data[data['postalcode'] == 'zipcode_A']['totalpremium']\n",
    "profit_data_groupB = data[data['postalcode'] == 'zipcode_B']['totalpremium']\n",
    "t_stat, p_value3 = ttest_ind(profit_data_groupA, profit_data_groupB)\n",
    "\n",
    "# Hypothesis 4: Risk difference between Women and Men\n",
    "chi2_stat, p_value4, _, _ = chi2_contingency(gender_data)\n",
    "\n",
    "# Interpretation of Results\n",
    "if p_value1 < 0.05:\n",
    "    print(\"Reject the null hypothesis for Risk differences across provinces.\")\n",
    "else:\n",
    "    print(\"Fail to reject the null hypothesis for Risk differences across provinces.\")\n",
    "\n",
    "if p_value2 < 0.05:\n",
    "    print(\"Reject the null hypothesis for Risk differences between zip codes.\")\n",
    "else:\n",
    "    print(\"Fail to reject the null hypothesis for Risk differences between zip codes.\")\n",
    "\n",
    "if p_value3 < 0.05:\n",
    "    print(\"Reject the null hypothesis for Margin (profit) difference between zip codes.\")\n",
    "else:\n",
    "    print(\"Fail to reject the null hypothesis for Margin (profit) difference between zip codes.\")\n",
    "\n",
    "if p_value4 < 0.05:\n",
    "    print(\"Reject the null hypothesis for Risk difference between Women and Men.\")\n",
    "else:\n",
    "    print(\"Fail to reject the null hypothesis for Risk difference between Women and Men.\")"
   ]
  }
 ],
 "metadata": {
  "kernelspec": {
   "display_name": "Python 3",
   "language": "python",
   "name": "python3"
  },
  "language_info": {
   "codemirror_mode": {
    "name": "ipython",
    "version": 3
   },
   "file_extension": ".py",
   "mimetype": "text/x-python",
   "name": "python",
   "nbconvert_exporter": "python",
   "pygments_lexer": "ipython3",
   "version": "3.11.0"
  }
 },
 "nbformat": 4,
 "nbformat_minor": 2
}
